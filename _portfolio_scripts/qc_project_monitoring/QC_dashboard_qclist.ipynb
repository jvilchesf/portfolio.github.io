{
  "nbformat": 4,
  "nbformat_minor": 0,
  "metadata": {
    "colab": {
      "provenance": [],
      "authorship_tag": "ABX9TyPvJqq4SyrBKgBqBYINeQ4g",
      "include_colab_link": true
    },
    "kernelspec": {
      "name": "python3",
      "display_name": "Python 3"
    },
    "language_info": {
      "name": "python"
    }
  },
  "cells": [
    {
      "cell_type": "markdown",
      "metadata": {
        "id": "view-in-github",
        "colab_type": "text"
      },
      "source": [
        "<a href=\"https://colab.research.google.com/github/jvilchesf/Portfolio/blob/main/QC_Dashboard_qc_list.ipynb\" target=\"_parent\"><img src=\"https://colab.research.google.com/assets/colab-badge.svg\" alt=\"Open In Colab\"/></a>"
      ]
    },
    {
      "cell_type": "code",
      "execution_count": null,
      "metadata": {
        "id": "fuvZO8mvjKe7"
      },
      "outputs": [],
      "source": [
        "from google.colab import auth\n",
        "from google.auth import default\n",
        "from datetime import datetime\n",
        "\n",
        "import numpy as np\n",
        "import pandas as pd\n",
        "import gspread\n",
        "from gspread_dataframe import set_with_dataframe\n",
        "\n",
        "auth.authenticate_user()\n",
        "creds, _ = default()\n",
        "\n",
        "gc = gspread.authorize(creds)\n",
        "sh_master = gc.open('2024_Breeding Season_QC List  - VH (5)') #Read gsheet file\n",
        "sh_schedule = gc.open('Breeding Season 2024 Schedule') #Read gsheet file\n"
      ]
    },
    {
      "cell_type": "code",
      "source": [
        "# Function to handle merged cells for the first three columns\n",
        "def fill_merged_cells(data):\n",
        "    for row_index, row in enumerate(data):\n",
        "        for col_index in range(3):  # Limit to the first three columns\n",
        "            cell = row[col_index]\n",
        "            if cell == '':\n",
        "                # Find the closest non-empty cell above\n",
        "                for k in range(row_index - 1, -1, -1):\n",
        "                    if data[k][col_index] != '':\n",
        "                        data[row_index][col_index] = data[k][col_index]\n",
        "                        break\n",
        "    return data"
      ],
      "metadata": {
        "id": "GBAzW9n70i1k"
      },
      "execution_count": null,
      "outputs": []
    },
    {
      "cell_type": "code",
      "source": [
        "# Step 3: Define the columns to keep\n",
        "columns_to_keep = [\n",
        "    'Project Code',\n",
        "    'Month',\n",
        "    'Fieldwork',\n",
        "    'Further Fieldwork Information',\n",
        "    'Site Visit Completed By',\n",
        "    'Scheduled',\n",
        "    'Data QC\\'d',\n",
        "    'Data Entered in Master Excel',\n",
        "    'Shapefile Produced (GIS)'\n",
        "]\n",
        "\n",
        "# Step 4: Create an empty list to hold DataFrames for each sheet\n",
        "df_list = []\n",
        "\n",
        "# Step 5: Loop through sheets 5 to 61\n",
        "for sheet_index in range(7, 65):  # Sheets are 0-indexed, so sheet 5 is index 4\n",
        "#for sheet_index in range(5, 63):\n",
        "    worksheet = sh_master.get_worksheet(sheet_index)\n",
        "    if worksheet is not None:\n",
        "        # Get all values in the worksheet as a list of lists\n",
        "        data = worksheet.get_all_values()\n",
        "        if data:\n",
        "            # Handle merged cells\n",
        "            data = fill_merged_cells(data)\n",
        "            # Convert the data to a DataFrame\n",
        "            df = pd.DataFrame(data[2:], columns=data[1])  # Using the second row (index 1) as the header\n",
        "            # Ensure the DataFrame contains the required columns\n",
        "            # Select only the specified columns\n",
        "            df = df.iloc[:, :11]\n",
        "            # Check for the column with the leading space and rename it\n",
        "            if ' Project Code' in df.columns:\n",
        "                df.rename(columns={' Project Code': 'Project Code'}, inplace=True)\n",
        "\n",
        "            df_list.append(df)\n"
      ],
      "metadata": {
        "id": "oBPuCKS-kMbi"
      },
      "execution_count": null,
      "outputs": []
    },
    {
      "cell_type": "code",
      "source": [
        "# Step 6: Concatenate all DataFrames into one\n",
        "if df_list:\n",
        "    df_qc_list = pd.concat(df_list, ignore_index=True)\n",
        "    df_qc_list = df_qc_list.drop(['Date Scheduled',' Staysafe / Whatsapp'],axis=1)\n",
        "    df_qc_list['execution_date'] = datetime.now().strftime(\"%Y-%m-%d\")\n",
        "\n",
        "    # Open the existing Google Sheet by its title or URL\n",
        "    spreadsheet = gc.open('QC_list_summarize_v1')\n",
        "\n",
        "    # Select the first sheet (or the sheet you want to append to)\n",
        "    worksheet = spreadsheet.get_worksheet(0)\n",
        "\n",
        "    # Find the next available row\n",
        "    existing_data = worksheet.get_all_values()\n",
        "    next_row = len(existing_data) + 1  # Adding 1 because Google Sheets index starts at 1, not 0\n",
        "\n",
        "    # Prepare the range for updating\n",
        "    # Calculate the range to update\n",
        "    rows, cols = df_qc_list.shape\n",
        "    cell_range = f'A{next_row}:J{next_row + rows - 1}'  # Adjust columns as needed\n",
        "\n",
        "\n",
        "    # Convert the DataFrame to a list of lists for updating\n",
        "    data_to_append = df_qc_list.values.tolist()\n",
        "\n",
        "    # Update the range of cells with the new data\n",
        "    cell_list = worksheet.range(cell_range)\n",
        "\n",
        "    for cell, data in zip(cell_list, sum(data_to_append, [])):\n",
        "        cell.value = data\n",
        "\n",
        "    worksheet.update_cells(cell_list, value_input_option='USER_ENTERED')\n",
        "else:\n",
        "    print(\"No valid data found in the specified sheets.\")"
      ],
      "metadata": {
        "id": "Yi5UOc89q_OO"
      },
      "execution_count": null,
      "outputs": []
    }
  ]
}